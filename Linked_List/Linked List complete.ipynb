{
 "cells": [
  {
   "cell_type": "markdown",
   "id": "05ea05f6-f5a5-4eef-8879-c3b83452bd5e",
   "metadata": {},
   "source": [
    "# 1. Create Singly Linked List #######################"
   ]
  },
  {
   "cell_type": "markdown",
   "id": "5170df98-34ec-4b33-a6af-fa16ded7146f",
   "metadata": {},
   "source": [
    "1. initialize the node with data, next\n",
    "2. initialize the head of Linked List\n",
    "3. Create a insert function\n",
    "4. Print the Linked List"
   ]
  },
  {
   "cell_type": "code",
   "execution_count": 7,
   "id": "dff9e85f-f733-477b-8eb5-09f0f231e535",
   "metadata": {},
   "outputs": [
    {
     "name": "stdout",
     "output_type": "stream",
     "text": [
      "John\n",
      "Ben\n",
      "Matt\n",
      "Ankit\n"
     ]
    }
   ],
   "source": [
    "#%% ################# 1. Create Singly Linked List #######################\n",
    "class Node():\n",
    "    def __init__(self,data):\n",
    "        self.data=data\n",
    "        self.next=None\n",
    "        ########## This will initialize the node with data, next ###########\n",
    "    \n",
    "class LinkedList():\n",
    "    def __init__(self):\n",
    "        self.head=None\n",
    "        ############# It will initialize the head of Linked List ##############\n",
    "    \n",
    "    def insert(self,newnode):\n",
    "        if self.head is None:\n",
    "            self.head= newnode\n",
    "        ############## head=> John, Next (None)\n",
    "        \n",
    "        else:\n",
    "            lastnode=self.head\n",
    "            ########### lastnode=> John, Next(None)\n",
    "            while True:\n",
    "                if lastnode.next is None:\n",
    "                    lastnode.next= newnode\n",
    "                    ##### Node=> John, Ben, Next(None)\n",
    "                    break\n",
    "                else:\n",
    "                    lastnode= lastnode.next\n",
    "                    ######## lastnode=> Ben, Next()\n",
    "                    continue\n",
    "                \n",
    "    \n",
    "    def printList(self):\n",
    "        current_node= self.head\n",
    "        if self.head is None:\n",
    "            print('Linked List is Empty')\n",
    "            return\n",
    "            \n",
    "        while True:\n",
    "            if current_node is None:\n",
    "                break\n",
    "            else:\n",
    "                print(current_node.data)\n",
    "                current_node= current_node.next\n",
    "        \n",
    "    \n",
    "firstnode= Node('John')\n",
    "LList= LinkedList()\n",
    "LList.insert(firstnode)\n",
    "\n",
    "second= Node('Ben')\n",
    "LList.insert(second)\n",
    "\n",
    "Third=Node('Matt')\n",
    "LList.insert(Third)\n",
    "\n",
    "Fourth= Node('Ankit')\n",
    "LList.insert(Fourth)\n",
    "\n",
    "LList.printList()"
   ]
  },
  {
   "cell_type": "markdown",
   "id": "ab897b04-e351-4110-8384-edbed4e9eef3",
   "metadata": {},
   "source": [
    "# 2. Insert a new node as the head node"
   ]
  },
  {
   "cell_type": "markdown",
   "id": "c39c3f00-a75a-453b-b036-ffaaf19665d3",
   "metadata": {},
   "source": [
    "**Store the current node into a temporary node and then make new node as head node.** Then point its next to the temporary node"
   ]
  },
  {
   "cell_type": "code",
   "execution_count": 16,
   "id": "e315e39a-6fa2-44e8-96fa-460d6a2e6885",
   "metadata": {},
   "outputs": [
    {
     "name": "stdout",
     "output_type": "stream",
     "text": [
      "Matt\n",
      "John\n",
      "Ben\n"
     ]
    }
   ],
   "source": [
    "#%% ############################ 2. Insert a new node as the head node #######################\n",
    "######### store the current node into a temporary node and then make new node as head node. Then point its next to the temporary node \n",
    "class Node():\n",
    "    def __init__(self,data):\n",
    "        self.data=data\n",
    "        self.next=None\n",
    "        ########## This will initialize the node with data, next ###########\n",
    "\n",
    "class LinkedList():\n",
    "    def __init__(self):\n",
    "        self.head=None\n",
    "        ############# It will initialize the head of Linked List ##############\n",
    "    \n",
    "    def insert(self,newnode):\n",
    "        if self.head is None:\n",
    "            self.head= newnode\n",
    "        ############## head=> John, Next (None)\n",
    "        \n",
    "        else:\n",
    "            lastnode=self.head\n",
    "            ########### lastnode=> John, Next(None)\n",
    "            while True:\n",
    "                if lastnode.next is None:\n",
    "                    lastnode.next= newnode\n",
    "                    ##### Node=> John, Ben, Next(None)\n",
    "                    break\n",
    "                else:\n",
    "                    lastnode= lastnode.next\n",
    "                    ######## lastnode=> Ben, Next()\n",
    "                    continue\n",
    "                \n",
    "    def insert_start(self,newnode):\n",
    "        if self.head is None:\n",
    "            self.head= newnode\n",
    "        temp_node= self.head\n",
    "        self.head= newnode\n",
    "        self.head.next= temp_node\n",
    "        del temp_node\n",
    "    \n",
    "    def printList(self):\n",
    "        current_node= self.head\n",
    "        if self.head is None:\n",
    "            print('Linked List is Empty')\n",
    "            return\n",
    "            \n",
    "        while True:\n",
    "            if current_node is None:\n",
    "                break\n",
    "            else:\n",
    "                print(current_node.data)\n",
    "                current_node= current_node.next\n",
    "        \n",
    "    \n",
    "firstnode= Node('John')\n",
    "\n",
    "LList= LinkedList()\n",
    "LList.insert(firstnode)\n",
    "\n",
    "second= Node('Ben')\n",
    "LList.insert(second)\n",
    "\n",
    "Third=Node('Matt')\n",
    "LList.insert_start(Third)\n",
    "LList.printList()\n"
   ]
  },
  {
   "cell_type": "markdown",
   "id": "59e71780-1740-4485-93e8-aa0e9ca6704c",
   "metadata": {},
   "source": [
    "# 3. Insert a new node in between the two Node (after position 1)"
   ]
  },
  {
   "cell_type": "markdown",
   "id": "4cfecd5f-312b-49a5-9972-e81087e135f3",
   "metadata": {},
   "source": [
    "#### Logic - Traverse to the first node => temp_node= firstnode.next => now, firstnode.next= newnode => Now, lastnode.next= temp_node\r\n"
   ]
  },
  {
   "cell_type": "code",
   "execution_count": 20,
   "id": "ccb92ad5-cfe0-4602-8e57-7d74870dc324",
   "metadata": {},
   "outputs": [
    {
     "name": "stdout",
     "output_type": "stream",
     "text": [
      "John\n",
      "Ankit\n",
      "Ben\n",
      "Matt\n"
     ]
    }
   ],
   "source": [
    "class Node:\n",
    "    def __init__(self,data):\n",
    "        self.data= data\n",
    "        self.next= None\n",
    "\n",
    "class LinkedList:\n",
    "    def __init__(self):\n",
    "        self.head= None\n",
    "        \n",
    "    def insert(self,newnode):\n",
    "        if self.head is None:\n",
    "            self.head= newnode\n",
    "        \n",
    "        else:\n",
    "            lastnode= self.head\n",
    "            while True:\n",
    "                if lastnode.next is None:\n",
    "                    lastnode.next= newnode\n",
    "                    break\n",
    "                else:\n",
    "                    lastnode= lastnode.next\n",
    "                    continue\n",
    "    \n",
    "    def insert_mid(self,newnode):\n",
    "        ########### insert after traversing to 1st position ##############\n",
    "        firstnode= self.head\n",
    "        temp_node= firstnode.next\n",
    "        self.head.next= newnode\n",
    "        newnode.next= temp_node\n",
    "        del temp_node\n",
    "        \n",
    "    def printList(self):\n",
    "        if self.head is None:\n",
    "            print('Empty Linked List')\n",
    "            \n",
    "        else:\n",
    "            lastnode= self.head\n",
    "            while True:\n",
    "                if lastnode is None:\n",
    "                    break\n",
    "                else:\n",
    "                    print(lastnode.data)\n",
    "                    lastnode= lastnode.next\n",
    "\n",
    "\n",
    "firstnode= Node('John')\n",
    "LList= LinkedList()\n",
    "LList.insert(firstnode)\n",
    "\n",
    "second= Node('Ben')\n",
    "LList.insert(second)\n",
    "\n",
    "Third=Node('Matt')\n",
    "LList.insert(Third)\n",
    "\n",
    "Fourth= Node('Ankit')\n",
    "LList.insert_mid(Fourth)\n",
    "\n",
    "LList.printList()\n"
   ]
  },
  {
   "cell_type": "markdown",
   "id": "5fb0358b-8564-41c4-b2f7-5cf02bd27bf8",
   "metadata": {},
   "source": [
    "#  4. Delete a node from end of the list"
   ]
  },
  {
   "cell_type": "markdown",
   "id": "8c5d7317-047e-470b-9171-89fb7155b449",
   "metadata": {},
   "source": [
    "### Logic- Traverse to end  of list => temp_node= 2nd last node => del lastnode => temp_node.next= None\r\n"
   ]
  },
  {
   "cell_type": "code",
   "execution_count": 26,
   "id": "307e73ae-4125-4ad3-aebc-6d1bfde00519",
   "metadata": {},
   "outputs": [
    {
     "name": "stdout",
     "output_type": "stream",
     "text": [
      "John\n",
      "Ben\n"
     ]
    }
   ],
   "source": [
    "class Node:\n",
    "    def __init__(self,data):\n",
    "        self.data= data\n",
    "        self.next= None\n",
    "\n",
    "class LinkedList:\n",
    "    def __init__(self):\n",
    "        self.head= None\n",
    "    \n",
    "    def insert(self,newnode):\n",
    "        if self.head is None:\n",
    "            self.head= newnode\n",
    "            \n",
    "        else:\n",
    "            lastnode= self.head\n",
    "            while True:\n",
    "                if lastnode.next is None:\n",
    "                    lastnode.next= newnode\n",
    "                    break\n",
    "                else:\n",
    "                    lastnode= lastnode.next\n",
    "                    \n",
    "    def delete_end(self):\n",
    "        if self.head is None:\n",
    "            print('Empty List')\n",
    "        else:\n",
    "            lastnode= self.head\n",
    "            while lastnode.next is not None:\n",
    "                prevnode= lastnode      ##### keep storing the previous value so that when lastnode.next= None, then we can point prevnode.next=None\n",
    "                lastnode= lastnode.next\n",
    "            prevnode.next= None\n",
    "\n",
    "        \n",
    "    def printList(self):\n",
    "        if self.head is None:\n",
    "            print('Empty List')\n",
    "        else:\n",
    "            lastnode= self.head\n",
    "            while True:\n",
    "                if lastnode is None:\n",
    "                    break\n",
    "                else:\n",
    "                    print(lastnode.data)\n",
    "                    lastnode= lastnode.next\n",
    "                    \n",
    "\n",
    "firstnode= Node('John')\n",
    "LList= LinkedList()\n",
    "LList.insert(firstnode)\n",
    "\n",
    "second= Node('Ben')\n",
    "LList.insert(second)\n",
    "\n",
    "Third=Node('Matt')\n",
    "LList.insert(Third)\n",
    "\n",
    "LList.delete_end()\n",
    "LList.printList()\n"
   ]
  },
  {
   "cell_type": "code",
   "execution_count": null,
   "id": "8fbf818c-9ce4-4415-8067-02e15e1282c5",
   "metadata": {},
   "outputs": [],
   "source": []
  },
  {
   "cell_type": "code",
   "execution_count": null,
   "id": "e511f5e9-19de-45f0-aa4b-2a55d080800e",
   "metadata": {},
   "outputs": [],
   "source": []
  }
 ],
 "metadata": {
  "kernelspec": {
   "display_name": "Python 3 (ipykernel)",
   "language": "python",
   "name": "python3"
  },
  "language_info": {
   "codemirror_mode": {
    "name": "ipython",
    "version": 3
   },
   "file_extension": ".py",
   "mimetype": "text/x-python",
   "name": "python",
   "nbconvert_exporter": "python",
   "pygments_lexer": "ipython3",
   "version": "3.12.4"
  }
 },
 "nbformat": 4,
 "nbformat_minor": 5
}
